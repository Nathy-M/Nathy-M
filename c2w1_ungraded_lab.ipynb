{
  "nbformat": 4,
  "nbformat_minor": 0,
  "metadata": {
    "colab": {
      "provenance": [],
      "authorship_tag": "ABX9TyM1SINkhSeCcrrIFrnJw4sO",
      "include_colab_link": true
    },
    "kernelspec": {
      "name": "python3",
      "display_name": "Python 3"
    },
    "language_info": {
      "name": "python"
    }
  },
  "cells": [
    {
      "cell_type": "markdown",
      "metadata": {
        "id": "view-in-github",
        "colab_type": "text"
      },
      "source": [
        "<a href=\"https://colab.research.google.com/github/Nathy-M/Nathy-M/blob/main/c2w1_ungraded_lab.ipynb\" target=\"_parent\"><img src=\"https://colab.research.google.com/assets/colab-badge.svg\" alt=\"Open In Colab\"/></a>"
      ]
    },
    {
      "cell_type": "code",
      "execution_count": 31,
      "metadata": {
        "id": "rJwCkb13dZnR"
      },
      "outputs": [],
      "source": [
        "import tensorflow as tf\n",
        "import numpy as np\n",
        "import os\n",
        "import matplotlib.pyplot as plt"
      ]
    },
    {
      "cell_type": "code",
      "source": [
        "!wget --no-check-certificate https://storage.googleapis.com/mledu-datasets/cats_and_dogs_filtered.zip"
      ],
      "metadata": {
        "colab": {
          "base_uri": "https://localhost:8080/"
        },
        "id": "1JlUQjfgpgi-",
        "outputId": "1b9d620a-2c0c-4c40-81e2-9b84e4f3cd31"
      },
      "execution_count": 32,
      "outputs": [
        {
          "output_type": "stream",
          "name": "stdout",
          "text": [
            "--2022-11-06 21:29:53--  https://storage.googleapis.com/mledu-datasets/cats_and_dogs_filtered.zip\n",
            "Resolving storage.googleapis.com (storage.googleapis.com)... 74.125.196.128, 142.251.162.128, 74.125.31.128, ...\n",
            "Connecting to storage.googleapis.com (storage.googleapis.com)|74.125.196.128|:443... connected.\n",
            "HTTP request sent, awaiting response... 200 OK\n",
            "Length: 68606236 (65M) [application/zip]\n",
            "Saving to: ‘cats_and_dogs_filtered.zip.2’\n",
            "\n",
            "cats_and_dogs_filte 100%[===================>]  65.43M   257MB/s    in 0.3s    \n",
            "\n",
            "2022-11-06 21:29:53 (257 MB/s) - ‘cats_and_dogs_filtered.zip.2’ saved [68606236/68606236]\n",
            "\n"
          ]
        }
      ]
    },
    {
      "cell_type": "code",
      "source": [
        "import zipfile\n",
        "zfile = './cats_and_dogs_filtered.zip'\n",
        "zip_ref = zipfile.ZipFile(zfile, 'r')\n",
        "zip_ref.extractall()\n",
        "zip_ref.close()"
      ],
      "metadata": {
        "id": "hAdsWZHOphv1"
      },
      "execution_count": 33,
      "outputs": []
    },
    {
      "cell_type": "code",
      "source": [
        "base_dir = 'cats_and_dogs_filtered'\n",
        "print('Directories inside cats and dogs filtered..:', os.listdir(base_dir))\n",
        "print('Directories in train are:')\n",
        "print(os.listdir(f'{base_dir}/train'))\n",
        "print('Directories in validation are:')\n",
        "print(os.listdir(f'{base_dir}/validation'))"
      ],
      "metadata": {
        "colab": {
          "base_uri": "https://localhost:8080/"
        },
        "id": "aY-wXPy3qCDe",
        "outputId": "384834d2-0a57-4987-eb4d-1a206dca38a9"
      },
      "execution_count": 34,
      "outputs": [
        {
          "output_type": "stream",
          "name": "stdout",
          "text": [
            "Directories inside cats and dogs filtered..: ['train', 'validation', 'vectorize.py']\n",
            "Directories in train are:\n",
            "['dogs', 'cats']\n",
            "Directories in validation are:\n",
            "['dogs', 'cats']\n"
          ]
        }
      ]
    },
    {
      "cell_type": "code",
      "source": [
        "train = os.path.join(base_dir, 'train')\n",
        "validation = os.path.join(base_dir, 'validation')\n",
        "cats_train = os.path.join(train, 'cats')\n",
        "dogs_train = os.path.join(train, 'dogs')\n",
        "\n",
        "cats_validation = os.path.join(validation, 'cats')\n",
        "dogs_validation = os.path.join(validation, 'dogs')"
      ],
      "metadata": {
        "id": "iPcx03Xlq6cF"
      },
      "execution_count": 35,
      "outputs": []
    },
    {
      "cell_type": "code",
      "source": [
        "model = tf.keras.models.Sequential([\n",
        "    tf.keras.layers.Conv2D(16, (3,3),activation = 'relu', input_shape = (150, 150, 3)),\n",
        "    tf.keras.layers.MaxPooling2D(2,2),\n",
        "    tf.keras.layers.Conv2D(32, (3,3),activation = 'relu'),\n",
        "    tf.keras.layers.MaxPooling2D(2,2),\n",
        "    tf.keras.layers.Conv2D(64, (3,3),activation = 'relu'),\n",
        "    tf.keras.layers.MaxPooling2D(2,2),\n",
        "    tf.keras.layers.Flatten(),\n",
        "    tf.keras.layers.Dense(512, activation = 'relu'),\n",
        "    tf.keras.layers.Dense(1, activation = 'sigmoid')\n",
        "])\n",
        "model.summary()"
      ],
      "metadata": {
        "colab": {
          "base_uri": "https://localhost:8080/"
        },
        "id": "N1mF4NuMs3L-",
        "outputId": "5555a07b-c2b1-42e6-ce43-6186f4a90748"
      },
      "execution_count": 43,
      "outputs": [
        {
          "output_type": "stream",
          "name": "stdout",
          "text": [
            "Model: \"sequential_5\"\n",
            "_________________________________________________________________\n",
            " Layer (type)                Output Shape              Param #   \n",
            "=================================================================\n",
            " conv2d_15 (Conv2D)          (None, 148, 148, 16)      448       \n",
            "                                                                 \n",
            " max_pooling2d_15 (MaxPoolin  (None, 74, 74, 16)       0         \n",
            " g2D)                                                            \n",
            "                                                                 \n",
            " conv2d_16 (Conv2D)          (None, 72, 72, 32)        4640      \n",
            "                                                                 \n",
            " max_pooling2d_16 (MaxPoolin  (None, 36, 36, 32)       0         \n",
            " g2D)                                                            \n",
            "                                                                 \n",
            " conv2d_17 (Conv2D)          (None, 34, 34, 64)        18496     \n",
            "                                                                 \n",
            " max_pooling2d_17 (MaxPoolin  (None, 17, 17, 64)       0         \n",
            " g2D)                                                            \n",
            "                                                                 \n",
            " flatten_5 (Flatten)         (None, 18496)             0         \n",
            "                                                                 \n",
            " dense_10 (Dense)            (None, 512)               9470464   \n",
            "                                                                 \n",
            " dense_11 (Dense)            (None, 1)                 513       \n",
            "                                                                 \n",
            "=================================================================\n",
            "Total params: 9,494,561\n",
            "Trainable params: 9,494,561\n",
            "Non-trainable params: 0\n",
            "_________________________________________________________________\n"
          ]
        }
      ]
    },
    {
      "cell_type": "code",
      "source": [
        "model.compile(loss = 'binary_crossentropy', optimizer = 'adam', metrics = ['accuracy'])"
      ],
      "metadata": {
        "id": "4R3Y-EeftvBW"
      },
      "execution_count": 44,
      "outputs": []
    },
    {
      "cell_type": "code",
      "source": [
        "from tensorflow.keras.preprocessing.image import ImageDataGenerator\n",
        "train_datagen = ImageDataGenerator(rescale = 1/255.0)\n",
        "validation_datagen = ImageDataGenerator(rescale = 1/255.0)\n",
        "\n",
        "train_img = train_datagen.flow_from_directory(\n",
        "    train,\n",
        "    class_mode = 'binary',\n",
        "    batch_size = 20,\n",
        "    target_size = (150,150)\n",
        ")\n",
        "validation_img = train_datagen.flow_from_directory(\n",
        "    validation,\n",
        "    class_mode = 'binary',\n",
        "    batch_size = 20,\n",
        "    target_size = (150,150)\n",
        ")"
      ],
      "metadata": {
        "colab": {
          "base_uri": "https://localhost:8080/"
        },
        "id": "5WSdDLxut_71",
        "outputId": "38a84504-1a59-4f45-9f1b-efe86fffdacb"
      },
      "execution_count": 45,
      "outputs": [
        {
          "output_type": "stream",
          "name": "stdout",
          "text": [
            "Found 2000 images belonging to 2 classes.\n",
            "Found 1000 images belonging to 2 classes.\n"
          ]
        }
      ]
    },
    {
      "cell_type": "code",
      "source": [
        "history = model.fit(train_img, epochs = 10, validation_data = validation_img, verbose = 2)"
      ],
      "metadata": {
        "colab": {
          "base_uri": "https://localhost:8080/"
        },
        "id": "HxijBS26uwqE",
        "outputId": "e7751905-c0a4-487e-8d20-c3ba3e71f74d"
      },
      "execution_count": 46,
      "outputs": [
        {
          "output_type": "stream",
          "name": "stdout",
          "text": [
            "Epoch 1/10\n",
            "100/100 - 61s - loss: 0.6967 - accuracy: 0.5555 - val_loss: 0.6601 - val_accuracy: 0.5850 - 61s/epoch - 610ms/step\n",
            "Epoch 2/10\n",
            "100/100 - 59s - loss: 0.6224 - accuracy: 0.6510 - val_loss: 0.6264 - val_accuracy: 0.6090 - 59s/epoch - 593ms/step\n",
            "Epoch 3/10\n",
            "100/100 - 59s - loss: 0.5574 - accuracy: 0.7195 - val_loss: 0.5694 - val_accuracy: 0.7040 - 59s/epoch - 595ms/step\n",
            "Epoch 4/10\n",
            "100/100 - 60s - loss: 0.4509 - accuracy: 0.7835 - val_loss: 0.5437 - val_accuracy: 0.7370 - 60s/epoch - 595ms/step\n",
            "Epoch 5/10\n",
            "100/100 - 60s - loss: 0.3565 - accuracy: 0.8425 - val_loss: 0.5565 - val_accuracy: 0.7320 - 60s/epoch - 597ms/step\n",
            "Epoch 6/10\n",
            "100/100 - 59s - loss: 0.2675 - accuracy: 0.8905 - val_loss: 0.6526 - val_accuracy: 0.7100 - 59s/epoch - 592ms/step\n",
            "Epoch 7/10\n",
            "100/100 - 59s - loss: 0.1886 - accuracy: 0.9225 - val_loss: 0.7104 - val_accuracy: 0.7220 - 59s/epoch - 593ms/step\n",
            "Epoch 8/10\n",
            "100/100 - 60s - loss: 0.1274 - accuracy: 0.9495 - val_loss: 0.8731 - val_accuracy: 0.7220 - 60s/epoch - 596ms/step\n",
            "Epoch 9/10\n",
            "100/100 - 59s - loss: 0.0680 - accuracy: 0.9760 - val_loss: 1.1397 - val_accuracy: 0.6990 - 59s/epoch - 593ms/step\n",
            "Epoch 10/10\n",
            "100/100 - 59s - loss: 0.0403 - accuracy: 0.9895 - val_loss: 1.1592 - val_accuracy: 0.7380 - 59s/epoch - 591ms/step\n"
          ]
        }
      ]
    },
    {
      "cell_type": "code",
      "source": [
        "acc      = history.history[     'accuracy' ]\n",
        "val_acc  = history.history[ 'val_accuracy' ]\n",
        "loss     = history.history[    'loss' ]\n",
        "val_loss = history.history['val_loss' ]\n",
        "\n",
        "epochs = range(len(acc))\n",
        "plt.plot(epochs, acc)\n",
        "plt.plot(epochs, val_acc)\n",
        "plt.title('Training and validation accuracy')\n",
        "plt.figure()\n",
        "\n",
        "plt.plot(epochs, loss)\n",
        "plt.plot(epochs, val_loss)\n",
        "plt.title('Training and validation loss')"
      ],
      "metadata": {
        "colab": {
          "base_uri": "https://localhost:8080/",
          "height": 563
        },
        "id": "7--EJ33kvH8B",
        "outputId": "60b63a0d-4178-448e-95c1-941076cb902c"
      },
      "execution_count": 47,
      "outputs": [
        {
          "output_type": "execute_result",
          "data": {
            "text/plain": [
              "Text(0.5, 1.0, 'Training and validation loss')"
            ]
          },
          "metadata": {},
          "execution_count": 47
        },
        {
          "output_type": "display_data",
          "data": {
            "text/plain": [
              "<Figure size 432x288 with 1 Axes>"
            ],
            "image/png": "[encoded data removed]"
          },
          "metadata": {
            "needs_background": "light"
          }
        },
        {
          "output_type": "display_data",
          "data": {
            "text/plain": [
              "<Figure size 432x288 with 1 Axes>"
            ],
            "image/png": "[encoded data removed]"
          },
          "metadata": {
            "needs_background": "light"
          }
        }
      ]
    },
    {
      "cell_type": "code",
      "source": [],
      "metadata": {
        "id": "92a-e5_ov9PE"
      },
      "execution_count": null,
      "outputs": []
    }
  ]
}