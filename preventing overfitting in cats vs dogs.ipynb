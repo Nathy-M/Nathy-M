{
  "nbformat": 4,
  "nbformat_minor": 0,
  "metadata": {
    "colab": {
      "provenance": [],
      "authorship_tag": "ABX9TyOe+OfHP5UFvWu2X1slTGEG",
      "include_colab_link": true
    },
    "kernelspec": {
      "name": "python3",
      "display_name": "Python 3"
    },
    "language_info": {
      "name": "python"
    },
    "accelerator": "GPU",
    "gpuClass": "standard"
  },
  "cells": [
    {
      "cell_type": "markdown",
      "metadata": {
        "id": "view-in-github",
        "colab_type": "text"
      },
      "source": [
        "<a href=\"https://colab.research.google.com/github/Nathy-M/Nathy-M/blob/main/preventing%20overfitting%20in%20cats%20vs%20dogs.ipynb\" target=\"_parent\"><img src=\"https://colab.research.google.com/assets/colab-badge.svg\" alt=\"Open In Colab\"/></a>"
      ]
    },
    {
      "cell_type": "code",
      "execution_count": 19,
      "metadata": {
        "id": "SyDP6-rN1UyJ"
      },
      "outputs": [],
      "source": [
        "import tensorflow as tf\n",
        "import numpy as np\n",
        "import matplotlib.pyplot as plt\n",
        "import os\n",
        "import zipfile"
      ]
    },
    {
      "cell_type": "code",
      "source": [
        "!wget https://storage.googleapis.com/tensorflow-1-public/course2/cats_and_dogs_filtered.zip"
      ],
      "metadata": {
        "colab": {
          "base_uri": "https://localhost:8080/"
        },
        "id": "TBzzB6ms1YPS",
        "outputId": "7cd7e193-9ef9-4714-d2d6-b01b009ef1cd"
      },
      "execution_count": 20,
      "outputs": [
        {
          "output_type": "stream",
          "name": "stdout",
          "text": [
            "--2022-11-07 20:08:46--  https://storage.googleapis.com/tensorflow-1-public/course2/cats_and_dogs_filtered.zip\n",
            "Resolving storage.googleapis.com (storage.googleapis.com)... 142.250.4.128, 74.125.24.128, 172.217.194.128, ...\n",
            "Connecting to storage.googleapis.com (storage.googleapis.com)|142.250.4.128|:443... connected.\n",
            "HTTP request sent, awaiting response... 200 OK\n",
            "Length: 68606236 (65M) [application/zip]\n",
            "Saving to: ‘cats_and_dogs_filtered.zip.1’\n",
            "\n",
            "cats_and_dogs_filte 100%[===================>]  65.43M  21.0MB/s    in 3.8s    \n",
            "\n",
            "2022-11-07 20:08:50 (17.3 MB/s) - ‘cats_and_dogs_filtered.zip.1’ saved [68606236/68606236]\n",
            "\n"
          ]
        }
      ]
    },
    {
      "cell_type": "code",
      "source": [
        "zip_ref = zipfile.ZipFile('./cats_and_dogs_filtered.zip', 'r')\n",
        "zip_ref.extractall('tmp/')\n",
        "\n",
        "zip_ref.close()"
      ],
      "metadata": {
        "id": "qF-tx-5F1ssJ"
      },
      "execution_count": 21,
      "outputs": []
    },
    {
      "cell_type": "code",
      "source": [
        "base_dir = 'tmp/cats_and_dogs_filtered'\n",
        "print('Directories inside of base_dir:')\n",
        "print(os.listdir(base_dir))\n",
        "print('Directories inside of train:')\n",
        "print(os.listdir(f'{base_dir}/train'))\n",
        "print('Directories inside of validation:')\n",
        "print(os.listdir(f'{base_dir}/validation'))"
      ],
      "metadata": {
        "colab": {
          "base_uri": "https://localhost:8080/"
        },
        "id": "PLVHKeJG15Nh",
        "outputId": "e905b026-af5e-4f76-b9fb-d049209ac31e"
      },
      "execution_count": 22,
      "outputs": [
        {
          "output_type": "stream",
          "name": "stdout",
          "text": [
            "Directories inside of base_dir:\n",
            "['train', 'validation', 'vectorize.py']\n",
            "Directories inside of train:\n",
            "['cats', 'dogs']\n",
            "Directories inside of validation:\n",
            "['cats', 'dogs']\n"
          ]
        }
      ]
    },
    {
      "cell_type": "code",
      "source": [
        "train_dir = os.path.join(base_dir, 'train')\n",
        "validation_dir = os.path.join(base_dir, 'validation')\n",
        "\n",
        "train_cats_dir = os.path.join(train_dir, 'cats')\n",
        "train_dogs_dir = os.path.join(train_dir, 'dogs')\n",
        "\n",
        "validation_cats_dir = os.path.join(validation_dir, 'cats')\n",
        "validation_dogs_dir = os.path.join(validation_dir, 'dogs')\n",
        "from tensorflow.keras.optimizers import RMSprop"
      ],
      "metadata": {
        "id": "Bd12j9Lz16sw"
      },
      "execution_count": 24,
      "outputs": []
    },
    {
      "cell_type": "code",
      "source": [
        "def create_model():\n",
        "  model = tf.keras.models.Sequential([\n",
        "      tf.keras.layers.Conv2D(32, (3,3), activation = 'relu', input_shape = (150,150,3)),\n",
        "      tf.keras.layers.MaxPooling2D(2,2),\n",
        "      tf.keras.layers.Conv2D(64, (3,3), activation = 'relu'),\n",
        "      tf.keras.layers.MaxPooling2D(2,2),\n",
        "      tf.keras.layers.Conv2D(128, (3,3), activation = 'relu'),\n",
        "      tf.keras.layers.MaxPooling2D(2,2),\n",
        "      tf.keras.layers.Conv2D(128, (3,3), activation = 'relu'),\n",
        "      tf.keras.layers.MaxPooling2D(2,2),\n",
        "      tf.keras.layers.Flatten(),\n",
        "      tf.keras.layers.Dense(512, activation = 'relu'),\n",
        "      tf.keras.layers.Dense(1, activation = 'sigmoid')\n",
        "  ])\n",
        "  model.compile(loss = 'binary_crossentropy', optimizer = RMSprop(learning_rate=1e-4), metrics = ['accuracy'])\n",
        "  model.summary()\n",
        "\n",
        "  return model"
      ],
      "metadata": {
        "id": "ExJyVD8O182_"
      },
      "execution_count": 25,
      "outputs": []
    },
    {
      "cell_type": "code",
      "source": [
        "from IPython.core.display import Image\n",
        "from tensorflow.keras.preprocessing.image import ImageDataGenerator\n",
        "\n",
        "train_datagen = ImageDataGenerator(rescale = 1.0/ 255)\n",
        "validation_datagen = ImageDataGenerator(rescale = 1.0/ 255)\n",
        "\n",
        "train_img = train_datagen.flow_from_directory(train_dir,\n",
        "                                              batch_size = 20,\n",
        "                                              target_size = (150,150),\n",
        "                                              class_mode = 'binary')\n",
        "\n",
        "validation_img = train_datagen.flow_from_directory(validation_dir,\n",
        "                                              batch_size = 20,\n",
        "                                              target_size = (150,150),\n",
        "                                              class_mode = 'binary')\n"
      ],
      "metadata": {
        "colab": {
          "base_uri": "https://localhost:8080/"
        },
        "id": "Q1mWL3MC1-Zu",
        "outputId": "1196ec88-dd28-4536-ffd3-cbfcb3fe5b41"
      },
      "execution_count": 26,
      "outputs": [
        {
          "output_type": "stream",
          "name": "stdout",
          "text": [
            "Found 2000 images belonging to 2 classes.\n",
            "Found 1000 images belonging to 2 classes.\n"
          ]
        }
      ]
    },
    {
      "cell_type": "code",
      "source": [
        "model = create_model()\n",
        "EPOCHS = 20\n",
        "history = model.fit(train_img, steps_per_epoch = 100, epochs = EPOCHS, validation_data = validation_img, validation_steps = 50, verbose = 2)"
      ],
      "metadata": {
        "colab": {
          "base_uri": "https://localhost:8080/"
        },
        "id": "sNvbUuMG2AiG",
        "outputId": "5aa4a0a6-c6fe-4567-8336-977529a6d9f2"
      },
      "execution_count": 27,
      "outputs": [
        {
          "output_type": "stream",
          "name": "stdout",
          "text": [
            "Model: \"sequential_4\"\n",
            "_________________________________________________________________\n",
            " Layer (type)                Output Shape              Param #   \n",
            "=================================================================\n",
            " conv2d_16 (Conv2D)          (None, 148, 148, 32)      896       \n",
            "                                                                 \n",
            " max_pooling2d_16 (MaxPoolin  (None, 74, 74, 32)       0         \n",
            " g2D)                                                            \n",
            "                                                                 \n",
            " conv2d_17 (Conv2D)          (None, 72, 72, 64)        18496     \n",
            "                                                                 \n",
            " max_pooling2d_17 (MaxPoolin  (None, 36, 36, 64)       0         \n",
            " g2D)                                                            \n",
            "                                                                 \n",
            " conv2d_18 (Conv2D)          (None, 34, 34, 128)       73856     \n",
            "                                                                 \n",
            " max_pooling2d_18 (MaxPoolin  (None, 17, 17, 128)      0         \n",
            " g2D)                                                            \n",
            "                                                                 \n",
            " conv2d_19 (Conv2D)          (None, 15, 15, 128)       147584    \n",
            "                                                                 \n",
            " max_pooling2d_19 (MaxPoolin  (None, 7, 7, 128)        0         \n",
            " g2D)                                                            \n",
            "                                                                 \n",
            " flatten_4 (Flatten)         (None, 6272)              0         \n",
            "                                                                 \n",
            " dense_8 (Dense)             (None, 512)               3211776   \n",
            "                                                                 \n",
            " dense_9 (Dense)             (None, 1)                 513       \n",
            "                                                                 \n",
            "=================================================================\n",
            "Total params: 3,453,121\n",
            "Trainable params: 3,453,121\n",
            "Non-trainable params: 0\n",
            "_________________________________________________________________\n",
            "Epoch 1/20\n",
            "100/100 - 9s - loss: 0.6940 - accuracy: 0.5300 - val_loss: 0.6784 - val_accuracy: 0.6180 - 9s/epoch - 93ms/step\n",
            "Epoch 2/20\n",
            "100/100 - 8s - loss: 0.6686 - accuracy: 0.5810 - val_loss: 0.6494 - val_accuracy: 0.6520 - 8s/epoch - 82ms/step\n",
            "Epoch 3/20\n",
            "100/100 - 8s - loss: 0.6328 - accuracy: 0.6350 - val_loss: 0.6228 - val_accuracy: 0.6670 - 8s/epoch - 83ms/step\n",
            "Epoch 4/20\n",
            "100/100 - 9s - loss: 0.5967 - accuracy: 0.6745 - val_loss: 0.6925 - val_accuracy: 0.6080 - 9s/epoch - 87ms/step\n",
            "Epoch 5/20\n",
            "100/100 - 8s - loss: 0.5577 - accuracy: 0.7190 - val_loss: 0.5819 - val_accuracy: 0.6810 - 8s/epoch - 84ms/step\n",
            "Epoch 6/20\n",
            "100/100 - 8s - loss: 0.5172 - accuracy: 0.7375 - val_loss: 0.5604 - val_accuracy: 0.7080 - 8s/epoch - 83ms/step\n",
            "Epoch 7/20\n",
            "100/100 - 8s - loss: 0.4849 - accuracy: 0.7635 - val_loss: 0.5316 - val_accuracy: 0.7400 - 8s/epoch - 82ms/step\n",
            "Epoch 8/20\n",
            "100/100 - 8s - loss: 0.4589 - accuracy: 0.7860 - val_loss: 0.5469 - val_accuracy: 0.7230 - 8s/epoch - 82ms/step\n",
            "Epoch 9/20\n",
            "100/100 - 8s - loss: 0.4313 - accuracy: 0.7975 - val_loss: 0.5598 - val_accuracy: 0.7090 - 8s/epoch - 83ms/step\n",
            "Epoch 10/20\n",
            "100/100 - 8s - loss: 0.4002 - accuracy: 0.8210 - val_loss: 0.5437 - val_accuracy: 0.7350 - 8s/epoch - 83ms/step\n",
            "Epoch 11/20\n",
            "100/100 - 8s - loss: 0.3783 - accuracy: 0.8340 - val_loss: 0.5952 - val_accuracy: 0.7150 - 8s/epoch - 83ms/step\n",
            "Epoch 12/20\n",
            "100/100 - 9s - loss: 0.3495 - accuracy: 0.8495 - val_loss: 0.5620 - val_accuracy: 0.7450 - 9s/epoch - 91ms/step\n",
            "Epoch 13/20\n",
            "100/100 - 8s - loss: 0.3217 - accuracy: 0.8590 - val_loss: 0.5286 - val_accuracy: 0.7400 - 8s/epoch - 83ms/step\n",
            "Epoch 14/20\n",
            "100/100 - 8s - loss: 0.3003 - accuracy: 0.8725 - val_loss: 0.6226 - val_accuracy: 0.7380 - 8s/epoch - 83ms/step\n",
            "Epoch 15/20\n",
            "100/100 - 8s - loss: 0.2777 - accuracy: 0.8840 - val_loss: 0.5858 - val_accuracy: 0.7440 - 8s/epoch - 84ms/step\n",
            "Epoch 16/20\n",
            "100/100 - 8s - loss: 0.2516 - accuracy: 0.8980 - val_loss: 0.5644 - val_accuracy: 0.7570 - 8s/epoch - 83ms/step\n",
            "Epoch 17/20\n",
            "100/100 - 8s - loss: 0.2347 - accuracy: 0.9090 - val_loss: 0.5746 - val_accuracy: 0.7440 - 8s/epoch - 83ms/step\n",
            "Epoch 18/20\n",
            "100/100 - 8s - loss: 0.2090 - accuracy: 0.9135 - val_loss: 0.5875 - val_accuracy: 0.7400 - 8s/epoch - 83ms/step\n",
            "Epoch 19/20\n",
            "100/100 - 8s - loss: 0.1832 - accuracy: 0.9355 - val_loss: 0.6630 - val_accuracy: 0.7390 - 8s/epoch - 82ms/step\n",
            "Epoch 20/20\n",
            "100/100 - 11s - loss: 0.1616 - accuracy: 0.9435 - val_loss: 0.7170 - val_accuracy: 0.7360 - 11s/epoch - 107ms/step\n"
          ]
        }
      ]
    },
    {
      "cell_type": "code",
      "source": [
        "def plot_loss_accuracy(history):\n",
        "  acc = history.history['accuracy']\n",
        "  val_acc = history.history['val_accuracy']\n",
        "  loss = history.history['loss']\n",
        "  val_loss = history.history['val_loss']\n",
        "\n",
        "  epochs = range(len(acc))\n",
        "\n",
        "  plt.plot(epochs, acc, 'bo', label='Training accuracy')\n",
        "  plt.plot(epochs, val_acc, 'b', label='Validation accuracy')\n",
        "  plt.title('Training and validation accuracy')\n",
        "\n",
        "  plt.figure()\n",
        "\n",
        "  plt.plot(epochs, loss, 'bo', label='Training Loss')\n",
        "  plt.plot(epochs, val_loss, 'b', label='Validation Loss')\n",
        "  plt.title('Training and validation loss')\n",
        "  plt.legend()\n",
        "\n",
        "  plt.show()"
      ],
      "metadata": {
        "id": "L7dJ_ojF2C7x"
      },
      "execution_count": 28,
      "outputs": []
    },
    {
      "cell_type": "code",
      "source": [
        "plot_loss_accuracy(history)"
      ],
      "metadata": {
        "colab": {
          "base_uri": "https://localhost:8080/",
          "height": 545
        },
        "id": "cJ1gsfpPNDQd",
        "outputId": "c7783f12-6a2f-4061-b673-ddcdae29c3fe"
      },
      "execution_count": 29,
      "outputs": [
        {
          "output_type": "display_data",
          "data": {
            "text/plain": [
              "<Figure size 432x288 with 1 Axes>"
            ],
            "image/png": "[encoded data removed]"
          },
          "metadata": {
            "needs_background": "light"
          }
        },
        {
          "output_type": "display_data",
          "data": {
            "text/plain": [
              "<Figure size 432x288 with 1 Axes>"
            ],
            "image/png": "[encoded data removed]"
          },
          "metadata": {
            "needs_background": "light"
          }
        }
      ]
    },
    {
      "cell_type": "code",
      "source": [
        "train_datagen = ImageDataGenerator(\n",
        "      rescale=1./255,\n",
        "      rotation_range=40,\n",
        "      width_shift_range=0.2,\n",
        "      height_shift_range=0.2,\n",
        "      shear_range=0.2,\n",
        "      zoom_range=0.2,\n",
        "      horizontal_flip=True,\n",
        "      fill_mode='nearest')\n",
        "\n",
        "test_datagen = ImageDataGenerator(rescale=1./255)\n",
        "\n",
        "# Flow training images in batches of 20 using train_datagen generator\n",
        "train_generator = train_datagen.flow_from_directory(\n",
        "        train_dir,  # This is the source directory for training images\n",
        "        target_size=(150, 150),  # All images will be resized to 150x150\n",
        "        batch_size=20,\n",
        "        # Since we use binary_crossentropy loss, we need binary labels\n",
        "        class_mode='binary')\n",
        "\n",
        "# Flow validation images in batches of 20 using test_datagen generator\n",
        "validation_generator = test_datagen.flow_from_directory(\n",
        "        validation_dir,\n",
        "        target_size=(150, 150),\n",
        "        batch_size=20,\n",
        "        class_mode='binary')\n",
        "\n",
        "# Train the new model\n",
        "model_for_aug = create_model()\n",
        "history_with_aug = model_for_aug.fit(\n",
        "      train_generator,\n",
        "      steps_per_epoch=100,  # 2000 images = batch_size * steps\n",
        "      epochs=EPOCHS,\n",
        "      validation_data=validation_generator,\n",
        "      validation_steps=50,  # 1000 images = batch_size * steps\n",
        "      verbose=2)"
      ],
      "metadata": {
        "colab": {
          "base_uri": "https://localhost:8080/"
        },
        "id": "qGnMlL0pMivI",
        "outputId": "5294d08f-36d9-4460-aa4c-7dffd4393793"
      },
      "execution_count": 30,
      "outputs": [
        {
          "output_type": "stream",
          "name": "stdout",
          "text": [
            "Found 2000 images belonging to 2 classes.\n",
            "Found 1000 images belonging to 2 classes.\n",
            "Model: \"sequential_5\"\n",
            "_________________________________________________________________\n",
            " Layer (type)                Output Shape              Param #   \n",
            "=================================================================\n",
            " conv2d_20 (Conv2D)          (None, 148, 148, 32)      896       \n",
            "                                                                 \n",
            " max_pooling2d_20 (MaxPoolin  (None, 74, 74, 32)       0         \n",
            " g2D)                                                            \n",
            "                                                                 \n",
            " conv2d_21 (Conv2D)          (None, 72, 72, 64)        18496     \n",
            "                                                                 \n",
            " max_pooling2d_21 (MaxPoolin  (None, 36, 36, 64)       0         \n",
            " g2D)                                                            \n",
            "                                                                 \n",
            " conv2d_22 (Conv2D)          (None, 34, 34, 128)       73856     \n",
            "                                                                 \n",
            " max_pooling2d_22 (MaxPoolin  (None, 17, 17, 128)      0         \n",
            " g2D)                                                            \n",
            "                                                                 \n",
            " conv2d_23 (Conv2D)          (None, 15, 15, 128)       147584    \n",
            "                                                                 \n",
            " max_pooling2d_23 (MaxPoolin  (None, 7, 7, 128)        0         \n",
            " g2D)                                                            \n",
            "                                                                 \n",
            " flatten_5 (Flatten)         (None, 6272)              0         \n",
            "                                                                 \n",
            " dense_10 (Dense)            (None, 512)               3211776   \n",
            "                                                                 \n",
            " dense_11 (Dense)            (None, 1)                 513       \n",
            "                                                                 \n",
            "=================================================================\n",
            "Total params: 3,453,121\n",
            "Trainable params: 3,453,121\n",
            "Non-trainable params: 0\n",
            "_________________________________________________________________\n",
            "Epoch 1/20\n",
            "100/100 - 17s - loss: 0.6924 - accuracy: 0.5275 - val_loss: 0.6897 - val_accuracy: 0.5000 - 17s/epoch - 173ms/step\n",
            "Epoch 2/20\n",
            "100/100 - 17s - loss: 0.6845 - accuracy: 0.5460 - val_loss: 0.6634 - val_accuracy: 0.5910 - 17s/epoch - 166ms/step\n",
            "Epoch 3/20\n",
            "100/100 - 17s - loss: 0.6730 - accuracy: 0.5860 - val_loss: 0.6399 - val_accuracy: 0.6440 - 17s/epoch - 165ms/step\n",
            "Epoch 4/20\n",
            "100/100 - 17s - loss: 0.6605 - accuracy: 0.6060 - val_loss: 0.6142 - val_accuracy: 0.6780 - 17s/epoch - 165ms/step\n",
            "Epoch 5/20\n",
            "100/100 - 16s - loss: 0.6392 - accuracy: 0.6370 - val_loss: 0.6221 - val_accuracy: 0.6640 - 16s/epoch - 164ms/step\n",
            "Epoch 6/20\n",
            "100/100 - 17s - loss: 0.6256 - accuracy: 0.6550 - val_loss: 0.5911 - val_accuracy: 0.6800 - 17s/epoch - 166ms/step\n",
            "Epoch 7/20\n",
            "100/100 - 17s - loss: 0.6080 - accuracy: 0.6575 - val_loss: 0.5989 - val_accuracy: 0.6870 - 17s/epoch - 167ms/step\n",
            "Epoch 8/20\n",
            "100/100 - 17s - loss: 0.6067 - accuracy: 0.6630 - val_loss: 0.5673 - val_accuracy: 0.7060 - 17s/epoch - 172ms/step\n",
            "Epoch 9/20\n",
            "100/100 - 16s - loss: 0.5908 - accuracy: 0.6765 - val_loss: 0.5482 - val_accuracy: 0.7270 - 16s/epoch - 162ms/step\n",
            "Epoch 10/20\n",
            "100/100 - 17s - loss: 0.5934 - accuracy: 0.6760 - val_loss: 0.5597 - val_accuracy: 0.6980 - 17s/epoch - 165ms/step\n",
            "Epoch 11/20\n",
            "100/100 - 16s - loss: 0.5750 - accuracy: 0.7030 - val_loss: 0.5406 - val_accuracy: 0.7230 - 16s/epoch - 163ms/step\n",
            "Epoch 12/20\n",
            "100/100 - 17s - loss: 0.5803 - accuracy: 0.6900 - val_loss: 0.5303 - val_accuracy: 0.7190 - 17s/epoch - 166ms/step\n",
            "Epoch 13/20\n",
            "100/100 - 17s - loss: 0.5772 - accuracy: 0.6975 - val_loss: 0.5378 - val_accuracy: 0.7160 - 17s/epoch - 165ms/step\n",
            "Epoch 14/20\n",
            "100/100 - 16s - loss: 0.5654 - accuracy: 0.7055 - val_loss: 0.5320 - val_accuracy: 0.7160 - 16s/epoch - 165ms/step\n",
            "Epoch 15/20\n",
            "100/100 - 16s - loss: 0.5630 - accuracy: 0.7085 - val_loss: 0.5177 - val_accuracy: 0.7330 - 16s/epoch - 164ms/step\n",
            "Epoch 16/20\n",
            "100/100 - 16s - loss: 0.5554 - accuracy: 0.7155 - val_loss: 0.5079 - val_accuracy: 0.7390 - 16s/epoch - 164ms/step\n",
            "Epoch 17/20\n",
            "100/100 - 16s - loss: 0.5525 - accuracy: 0.7095 - val_loss: 0.5436 - val_accuracy: 0.7180 - 16s/epoch - 164ms/step\n",
            "Epoch 18/20\n",
            "100/100 - 16s - loss: 0.5466 - accuracy: 0.7115 - val_loss: 0.5154 - val_accuracy: 0.7340 - 16s/epoch - 164ms/step\n",
            "Epoch 19/20\n",
            "100/100 - 16s - loss: 0.5413 - accuracy: 0.7195 - val_loss: 0.5419 - val_accuracy: 0.7140 - 16s/epoch - 163ms/step\n",
            "Epoch 20/20\n",
            "100/100 - 17s - loss: 0.5396 - accuracy: 0.7330 - val_loss: 0.4871 - val_accuracy: 0.7550 - 17s/epoch - 172ms/step\n"
          ]
        }
      ]
    },
    {
      "cell_type": "code",
      "source": [
        "plot_loss_accuracy(history_with_aug)"
      ],
      "metadata": {
        "colab": {
          "base_uri": "https://localhost:8080/",
          "height": 545
        },
        "id": "zksTVHbsNsif",
        "outputId": "16ba7255-ea25-445b-93d1-b3fc8243adba"
      },
      "execution_count": 31,
      "outputs": [
        {
          "output_type": "display_data",
          "data": {
            "text/plain": [
              "<Figure size 432x288 with 1 Axes>"
            ],
            "image/png": "[encoded data removed]"
          },
          "metadata": {
            "needs_background": "light"
          }
        },
        {
          "output_type": "display_data",
          "data": {
            "text/plain": [
              "<Figure size 432x288 with 1 Axes>"
            ],
            "image/png": "[encoded data removed]"
          },
          "metadata": {
            "needs_background": "light"
          }
        }
      ]
    }
  ]
}